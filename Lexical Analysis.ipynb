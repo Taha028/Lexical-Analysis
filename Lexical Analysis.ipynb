{
 "cells": [
  {
   "cell_type": "code",
   "execution_count": 179,
   "metadata": {},
   "outputs": [],
   "source": [
    "import nltk\n",
    "import re\n",
    "\n"
   ]
  },
  {
   "cell_type": "code",
   "execution_count": 180,
   "metadata": {},
   "outputs": [],
   "source": [
    "f = open('lexical.py', 'r')\n",
    "program = f.read()"
   ]
  },
  {
   "cell_type": "code",
   "execution_count": null,
   "metadata": {},
   "outputs": [],
   "source": []
  },
  {
   "cell_type": "code",
   "execution_count": 181,
   "metadata": {},
   "outputs": [],
   "source": [
    "DataType=\"(^int$)|(^float$)|(^str$)|(^eval$)\"\n",
    "AccessModifiers=\"global|local\"\n",
    "If=\"if\"\n",
    "Else=\"else\"\n",
    "Elif=\"elif\"\n",
    "While=\"while\"\n",
    "For=\"for\"\n",
    "loopkeywords=\"Break|pass|continue|range|len|try|catch\"\n",
    "Operators= \"(\\+)|(-)|(=)|(\\*)|(/)|(%)|(--)|(<=)|(>=)\"\n",
    "LogicalOperator=\"or|not|and\"\n",
    "OOP=\"class|__init__()|self|super\"\n",
    "functions=\"def|return|yield|print\"\n",
    "punctuators=\"[\\[@&~!#$\\^\\|{}\\]:;<>?,\\.']|\\n|\\(\\)|\\(|\\)|{}|\\[\\]|\\\"\"\n",
    "boolean=\"True|False|None\"\n",
    "numeric=\"^(\\d+)$\"\n",
    "Identifiers=\"^[a-z-A-z]+[a-z-A-Z0-9_]*\"\n",
    "importkeyword=\"(^import$)|(^from$)|(^as$)\""
   ]
  },
  {
   "cell_type": "code",
   "execution_count": 182,
   "metadata": {},
   "outputs": [
    {
     "data": {
      "text/plain": [
       "['class Node:',\n",
       " '    def __init__(self,data):',\n",
       " '        self.data=data',\n",
       " '        self.ref=None',\n",
       " 'class LinkedList:',\n",
       " '    def __init__(self):',\n",
       " '        self.head=None',\n",
       " '    def TraverseLL(self):',\n",
       " '        if self.head is None:',\n",
       " '            print(\"linked is empty\")',\n",
       " '        else:',\n",
       " '            n=self.head',\n",
       " '            while n is not None:',\n",
       " '                print(n.data)',\n",
       " '                n=n.ref',\n",
       " '    ']"
      ]
     },
     "execution_count": 182,
     "metadata": {},
     "output_type": "execute_result"
    }
   ],
   "source": [
    "prog = program.split('\\n')\n",
    "prog"
   ]
  },
  {
   "cell_type": "code",
   "execution_count": 183,
   "metadata": {},
   "outputs": [],
   "source": [
    "def remove_Spaces(program):\n",
    "    scanned_Program = []\n",
    "    for line in prog:\n",
    "        if (line.strip() != ''):\n",
    "            scanned_Program.append(line.strip())\n",
    "    return scanned_Program"
   ]
  },
  {
   "cell_type": "code",
   "execution_count": 184,
   "metadata": {},
   "outputs": [],
   "source": [
    "scanned_Prog = remove_Spaces(prog)\n",
    "\n"
   ]
  },
  {
   "cell_type": "code",
   "execution_count": 185,
   "metadata": {},
   "outputs": [
    {
     "data": {
      "text/plain": [
       "['class Node:',\n",
       " 'def __init__(self,data):',\n",
       " 'self.data=data',\n",
       " 'self.ref=None',\n",
       " 'class LinkedList:',\n",
       " 'def __init__(self):',\n",
       " 'self.head=None',\n",
       " 'def TraverseLL(self):',\n",
       " 'if self.head is None:',\n",
       " 'print(\"linked is empty\")',\n",
       " 'else:',\n",
       " 'n=self.head',\n",
       " 'while n is not None:',\n",
       " 'print(n.data)',\n",
       " 'n=n.ref']"
      ]
     },
     "execution_count": 185,
     "metadata": {},
     "output_type": "execute_result"
    }
   ],
   "source": [
    "scanned_Prog "
   ]
  },
  {
   "cell_type": "code",
   "execution_count": 186,
   "metadata": {},
   "outputs": [],
   "source": [
    "Source_Code=[]\n",
    "for line in scanned_Prog:\n",
    "        Source_Code.append(line)\n"
   ]
  },
  {
   "cell_type": "code",
   "execution_count": 188,
   "metadata": {
    "scrolled": false
   },
   "outputs": [
    {
     "name": "stdout",
     "output_type": "stream",
     "text": [
      "class ------> OOP\n",
      "Node ------> Identifiers\n",
      ": ------> punctuators\n",
      "def ------> functions\n",
      "__init__ ------> OOP\n",
      "( ------> punctuators\n",
      "self ------> OOP\n",
      ", ------> punctuators\n",
      "data ------> Identifiers\n",
      "): ------> punctuators\n",
      "self ------> OOP\n",
      ". ------> punctuators\n",
      "data ------> Identifiers\n",
      "= ------> Operators\n",
      "data ------> Identifiers\n",
      "self ------> OOP\n",
      ". ------> punctuators\n",
      "ref ------> Identifiers\n",
      "= ------> Operators\n",
      "None ------> boolean\n",
      "class ------> OOP\n",
      "LinkedList ------> Identifiers\n",
      ": ------> punctuators\n",
      "def ------> functions\n",
      "__init__ ------> OOP\n",
      "( ------> punctuators\n",
      "self ------> OOP\n",
      "): ------> punctuators\n",
      "self ------> OOP\n",
      ". ------> punctuators\n",
      "head ------> Identifiers\n",
      "= ------> Operators\n",
      "None ------> boolean\n",
      "def ------> functions\n",
      "TraverseLL ------> Identifiers\n",
      "( ------> punctuators\n",
      "self ------> OOP\n",
      "): ------> punctuators\n",
      "if ------> ConditionalStatement\n",
      "self ------> OOP\n",
      ". ------> punctuators\n",
      "head ------> Identifiers\n",
      "is ------> Identifiers\n",
      "None ------> boolean\n",
      ": ------> punctuators\n",
      "print ------> functions\n",
      "(\" ------> punctuators\n",
      "linked ------> Identifiers\n",
      "is ------> Identifiers\n",
      "empty ------> Identifiers\n",
      "\") ------> punctuators\n",
      "else ------> ConditionalStatement\n",
      ": ------> punctuators\n",
      "n ------> Identifiers\n",
      "= ------> Operators\n",
      "self ------> OOP\n",
      ". ------> punctuators\n",
      "head ------> Identifiers\n",
      "while ------> while\n",
      "n ------> Identifiers\n",
      "is ------> Identifiers\n",
      "not ------> LogicalOperator\n",
      "None ------> boolean\n",
      ": ------> punctuators\n",
      "print ------> functions\n",
      "( ------> punctuators\n",
      "n ------> Identifiers\n",
      ". ------> punctuators\n",
      "data ------> Identifiers\n",
      ") ------> punctuators\n",
      "n ------> Identifiers\n",
      "= ------> Operators\n",
      "n ------> Identifiers\n",
      ". ------> punctuators\n",
      "ref ------> Identifiers\n"
     ]
    }
   ],
   "source": [
    "for line in Source_Code:\n",
    "    tokens = nltk.wordpunct_tokenize(line)\n",
    "    for token in tokens:\n",
    "        if (re.findall(DataType,token)):\n",
    "            print(token,\"------> DataType\")\n",
    "        elif (re.findall(AccessModifiers,token)):\n",
    "            print(token,\"------> Modifiers\")\n",
    "        elif (re.findall(ConditionalStatement,token)):\n",
    "            print(token,\"------> ConditionalStatement\")\n",
    "        elif (re.findall(While,token)):\n",
    "            print(token,\"------> while\")\n",
    "        elif (re.findall(loopkeywords,token)):\n",
    "            print(token,\"------> loopkeywords\")\n",
    "        elif (re.findall(Operators,token)):\n",
    "            print(token,\"------> Operators\")\n",
    "        elif (re.findall(punctuators,token)):\n",
    "            print(token,\"------> punctuators\")\n",
    "        elif (re.findall(LogicalOperator,token)):\n",
    "            print(token,\"------> LogicalOperator\")\n",
    "        elif (re.findall(OOP,token)):\n",
    "            print(token,\"------> OOP\")\n",
    "        elif (re.findall(functions,token)):\n",
    "            print(token,\"------> functions\")\n",
    "        elif (re.findall(boolean,token)):\n",
    "            print(token,\"------> boolean\")\n",
    "        elif (re.findall(numeric,token)):\n",
    "            print(token,\"------> numeric\")\n",
    "        elif (re.findall(Identifiers,token)):\n",
    "            print(token,\"------> Identifiers\")\n",
    "        else:\n",
    "            print(\"unknown Value\")\n",
    "\n",
    "\n"
   ]
  },
  {
   "cell_type": "code",
   "execution_count": 173,
   "metadata": {},
   "outputs": [
    {
     "name": "stdout",
     "output_type": "stream",
     "text": [
      "There Are  34 DataType:  (^int$)|(^float$)|(^str$)|(^eval$)\n",
      "\n",
      "\n",
      "There Are  12 Access Modifiers:  global|local\n",
      "\n",
      "\n",
      "There Are  12 Conditional Statement:  if|else|elif\n",
      "\n",
      "\n",
      "There Are 9 LOOP: while|for\n",
      "\n",
      "\n",
      "There Are  39 Loop KeyWord: Break|pass|continue|range|len|try|catch\n",
      "\n",
      "\n",
      "There Are  50 punctuators: [\\[@&~!#$\\^\\|{}\\]:;<>?,\\.']|\n",
      "|\\(\\)|\\(|\\)|{}|\\[\\]|\"\n",
      "\n",
      "\n",
      "There Are  10 LogicalOperator or|not|and\n",
      "\n",
      "\n",
      "There Are  27 OOP: class|__init__()|self|super\n",
      "\n",
      "\n",
      "There Are  15 boolean: True|False|None\n",
      "\n",
      "\n",
      "There Are  7 numeric: ^(\\d+)$\n",
      "\n",
      "\n",
      "There Are  25 Identifiers: ^[a-z-A-z]+[a-z-A-Z0-9_]*\n",
      "\n",
      "\n"
     ]
    }
   ],
   "source": [
    "print(\"There Are \",len(DataType),\"DataType: \",DataType)\n",
    "print(\"\\n\")\n",
    "print(\"There Are \",len(AccessModifiers),\"Access Modifiers: \",AccessModifiers)\n",
    "print(\"\\n\")\n",
    "print(\"There Are \",len(ConditionalStatement),\"Conditional Statement: \",ConditionalStatement)\n",
    "print(\"\\n\")\n",
    "print(\"There Are\",len(loop),\"LOOP:\",loop)\n",
    "print(\"\\n\")\n",
    "print(\"There Are \",len(loopkeywords),\"Loop KeyWord:\",loopkeywords)\n",
    "print(\"\\n\")\n",
    "print(\"There Are \",len(punctuators),\"punctuators:\",punctuators)\n",
    "print(\"\\n\")\n",
    "print(\"There Are \",len(LogicalOperator),\"LogicalOperator\",LogicalOperator)\n",
    "print(\"\\n\")\n",
    "print(\"There Are \",len(OOP),\"OOP:\",OOP)\n",
    "print(\"\\n\")\n",
    "print(\"There Are \",len(boolean),\"boolean:\",boolean)\n",
    "print(\"\\n\")\n",
    "print(\"There Are \",len(numeric),\"numeric:\",numeric)\n",
    "print(\"\\n\")\n",
    "print(\"There Are \",len(Identifiers),\"Identifiers:\",Identifiers)\n",
    "print(\"\\n\")\n",
    "\n",
    "\n",
    "      \n",
    "    \n",
    "\n",
    "      "
   ]
  },
  {
   "cell_type": "code",
   "execution_count": null,
   "metadata": {},
   "outputs": [],
   "source": []
  },
  {
   "cell_type": "code",
   "execution_count": null,
   "metadata": {},
   "outputs": [],
   "source": []
  },
  {
   "cell_type": "code",
   "execution_count": null,
   "metadata": {},
   "outputs": [],
   "source": []
  },
  {
   "cell_type": "code",
   "execution_count": null,
   "metadata": {},
   "outputs": [],
   "source": []
  },
  {
   "cell_type": "code",
   "execution_count": null,
   "metadata": {},
   "outputs": [],
   "source": []
  },
  {
   "cell_type": "code",
   "execution_count": null,
   "metadata": {},
   "outputs": [],
   "source": []
  },
  {
   "cell_type": "code",
   "execution_count": null,
   "metadata": {},
   "outputs": [],
   "source": []
  }
 ],
 "metadata": {
  "kernelspec": {
   "display_name": "Python 3",
   "language": "python",
   "name": "python3"
  },
  "language_info": {
   "codemirror_mode": {
    "name": "ipython",
    "version": 3
   },
   "file_extension": ".py",
   "mimetype": "text/x-python",
   "name": "python",
   "nbconvert_exporter": "python",
   "pygments_lexer": "ipython3",
   "version": "3.8.5"
  }
 },
 "nbformat": 4,
 "nbformat_minor": 4
}
